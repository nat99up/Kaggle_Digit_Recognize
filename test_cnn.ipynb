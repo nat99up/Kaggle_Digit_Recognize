{
 "cells": [
  {
   "cell_type": "code",
   "execution_count": 2,
   "metadata": {},
   "outputs": [],
   "source": [
    "import csv\n",
    "import numpy as np\n",
    "import tensorflow as tf\n",
    "\n",
    "\n",
    "\n",
    "\n",
    "def CsvLoading(file_name):\n",
    "    \n",
    "    file_contents = []\n",
    "    labels = []\n",
    "    datas = []\n",
    "    \n",
    "    \n",
    "    with open(file_name) as file :\n",
    "        \n",
    "        lines = csv.reader(file)\n",
    "        \n",
    "        for line in lines:\n",
    "            \n",
    "            file_contents.append(line)\n",
    "    \n",
    "    file_contents.remove(file_contents[0])\n",
    "    \n",
    "    for line in file_contents:\n",
    "        \n",
    "        labels.append(int(line[0]))\n",
    "        datas.append(list(map(binarizeChar,line[1:])))\n",
    "    \n",
    "    labels = np.array(labels)\n",
    "    datas = np.array(datas)\n",
    "    \n",
    "    return (labels,datas)\n",
    "    \n",
    "\n",
    "def binarizeChar(c):\n",
    "    if c == '0':\n",
    "        return 0\n",
    "    else :\n",
    "        return 1\n",
    "\n",
    "\n",
    "\n",
    "def Network(x):\n",
    "    \n",
    "    input_layer = tf.reshape(x,[-1,28,28,1])\n",
    "    \n",
    "    return input_layer\n",
    "    \n",
    "    \n",
    "\n",
    "\n",
    "\n",
    "    \n",
    "if __name__ == '__main__':\n",
    "    \n",
    "    (l,d) = CsvLoading('train.csv')\n",
    "    \n",
    "    x = tf.placeholder(tf.int32,[None,784])\n",
    "    y_ = tf.placeholder(tf.int32,[None,10])\n",
    "    "
   ]
  },
  {
   "cell_type": "code",
   "execution_count": null,
   "metadata": {},
   "outputs": [],
   "source": []
  },
  {
   "cell_type": "code",
   "execution_count": null,
   "metadata": {},
   "outputs": [],
   "source": []
  }
 ],
 "metadata": {
  "kernelspec": {
   "display_name": "Python 3",
   "language": "python",
   "name": "python3"
  },
  "language_info": {
   "codemirror_mode": {
    "name": "ipython",
    "version": 3
   },
   "file_extension": ".py",
   "mimetype": "text/x-python",
   "name": "python",
   "nbconvert_exporter": "python",
   "pygments_lexer": "ipython3",
   "version": "3.6.8"
  }
 },
 "nbformat": 4,
 "nbformat_minor": 2
}
